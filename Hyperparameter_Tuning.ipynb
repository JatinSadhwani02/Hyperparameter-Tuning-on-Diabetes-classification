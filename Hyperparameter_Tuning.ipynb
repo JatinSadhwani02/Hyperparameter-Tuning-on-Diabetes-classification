{
  "nbformat": 4,
  "nbformat_minor": 0,
  "metadata": {
    "colab": {
      "name": "Hyperparameter Tuning.ipynb",
      "provenance": []
    },
    "kernelspec": {
      "name": "python3",
      "display_name": "Python 3"
    },
    "language_info": {
      "name": "python"
    },
    "accelerator": "GPU"
  },
  "cells": [
    {
      "cell_type": "markdown",
      "metadata": {
        "id": "KZ32zH5P91ti"
      },
      "source": [
        "# ***Hyperparameter Tuning on Diabetes Classification model***"
      ]
    },
    {
      "cell_type": "markdown",
      "metadata": {
        "id": "ph5NOwJ9t6U_"
      },
      "source": [
        "## Load dataset"
      ]
    },
    {
      "cell_type": "code",
      "metadata": {
        "colab": {
          "base_uri": "https://localhost:8080/",
          "height": 203
        },
        "id": "MLaDcbqGtN2T",
        "outputId": "6ef22b46-a7d2-454c-b9e4-0e87f290f55f"
      },
      "source": [
        "import warnings\n",
        "import pandas as pd\n",
        "warnings.filterwarnings('ignore')\n",
        "df=pd.read_csv('final_diabetes.csv')\n",
        "df.head()"
      ],
      "execution_count": null,
      "outputs": [
        {
          "output_type": "execute_result",
          "data": {
            "text/html": [
              "<div>\n",
              "<style scoped>\n",
              "    .dataframe tbody tr th:only-of-type {\n",
              "        vertical-align: middle;\n",
              "    }\n",
              "\n",
              "    .dataframe tbody tr th {\n",
              "        vertical-align: top;\n",
              "    }\n",
              "\n",
              "    .dataframe thead th {\n",
              "        text-align: right;\n",
              "    }\n",
              "</style>\n",
              "<table border=\"1\" class=\"dataframe\">\n",
              "  <thead>\n",
              "    <tr style=\"text-align: right;\">\n",
              "      <th></th>\n",
              "      <th>Unnamed: 0</th>\n",
              "      <th>Pregnancies</th>\n",
              "      <th>Glucose</th>\n",
              "      <th>BloodPressure</th>\n",
              "      <th>SkinThickness</th>\n",
              "      <th>Insulin</th>\n",
              "      <th>BMI</th>\n",
              "      <th>DiabetesPedigreeFunction</th>\n",
              "      <th>Age</th>\n",
              "      <th>Outcome</th>\n",
              "    </tr>\n",
              "  </thead>\n",
              "  <tbody>\n",
              "    <tr>\n",
              "      <th>0</th>\n",
              "      <td>0</td>\n",
              "      <td>6.000000</td>\n",
              "      <td>148.0</td>\n",
              "      <td>72.0</td>\n",
              "      <td>35.000000</td>\n",
              "      <td>79.799479</td>\n",
              "      <td>33.6</td>\n",
              "      <td>0.627</td>\n",
              "      <td>50</td>\n",
              "      <td>1</td>\n",
              "    </tr>\n",
              "    <tr>\n",
              "      <th>1</th>\n",
              "      <td>1</td>\n",
              "      <td>1.000000</td>\n",
              "      <td>85.0</td>\n",
              "      <td>66.0</td>\n",
              "      <td>29.000000</td>\n",
              "      <td>79.799479</td>\n",
              "      <td>26.6</td>\n",
              "      <td>0.351</td>\n",
              "      <td>31</td>\n",
              "      <td>0</td>\n",
              "    </tr>\n",
              "    <tr>\n",
              "      <th>2</th>\n",
              "      <td>2</td>\n",
              "      <td>8.000000</td>\n",
              "      <td>183.0</td>\n",
              "      <td>64.0</td>\n",
              "      <td>20.536458</td>\n",
              "      <td>79.799479</td>\n",
              "      <td>23.3</td>\n",
              "      <td>0.672</td>\n",
              "      <td>32</td>\n",
              "      <td>1</td>\n",
              "    </tr>\n",
              "    <tr>\n",
              "      <th>3</th>\n",
              "      <td>3</td>\n",
              "      <td>1.000000</td>\n",
              "      <td>89.0</td>\n",
              "      <td>66.0</td>\n",
              "      <td>23.000000</td>\n",
              "      <td>94.000000</td>\n",
              "      <td>28.1</td>\n",
              "      <td>0.167</td>\n",
              "      <td>21</td>\n",
              "      <td>0</td>\n",
              "    </tr>\n",
              "    <tr>\n",
              "      <th>4</th>\n",
              "      <td>4</td>\n",
              "      <td>3.845052</td>\n",
              "      <td>137.0</td>\n",
              "      <td>40.0</td>\n",
              "      <td>35.000000</td>\n",
              "      <td>168.000000</td>\n",
              "      <td>43.1</td>\n",
              "      <td>2.288</td>\n",
              "      <td>33</td>\n",
              "      <td>1</td>\n",
              "    </tr>\n",
              "  </tbody>\n",
              "</table>\n",
              "</div>"
            ],
            "text/plain": [
              "   Unnamed: 0  Pregnancies  Glucose  ...  DiabetesPedigreeFunction  Age  Outcome\n",
              "0           0     6.000000    148.0  ...                     0.627   50        1\n",
              "1           1     1.000000     85.0  ...                     0.351   31        0\n",
              "2           2     8.000000    183.0  ...                     0.672   32        1\n",
              "3           3     1.000000     89.0  ...                     0.167   21        0\n",
              "4           4     3.845052    137.0  ...                     2.288   33        1\n",
              "\n",
              "[5 rows x 10 columns]"
            ]
          },
          "metadata": {
            "tags": []
          },
          "execution_count": 9
        }
      ]
    },
    {
      "cell_type": "markdown",
      "metadata": {
        "id": "TH4fRVRxuGtx"
      },
      "source": [
        "## Independent And Dependent features"
      ]
    },
    {
      "cell_type": "code",
      "metadata": {
        "id": "7ELCyWMutZ1O"
      },
      "source": [
        "#### Independent And Dependent features\n",
        "X=df.drop('Outcome',axis=1)\n",
        "y=df['Outcome']"
      ],
      "execution_count": null,
      "outputs": []
    },
    {
      "cell_type": "markdown",
      "metadata": {
        "id": "nf0B78JCuMWx"
      },
      "source": [
        "## Train Test Split"
      ]
    },
    {
      "cell_type": "code",
      "metadata": {
        "id": "-GCo9TQvtoX0"
      },
      "source": [
        "#### Train Test Split\n",
        "from sklearn.model_selection import train_test_split\n",
        "X_train,X_test,y_train,y_test=train_test_split(X,y,test_size=0.20,random_state=0)"
      ],
      "execution_count": null,
      "outputs": []
    },
    {
      "cell_type": "markdown",
      "metadata": {
        "id": "UlgdebWRuQXO"
      },
      "source": [
        "# Normalize data"
      ]
    },
    {
      "cell_type": "code",
      "metadata": {
        "id": "q_GsJXyvtptM"
      },
      "source": [
        "from sklearn.preprocessing import StandardScaler\n",
        "sc = StandardScaler()\n",
        "X_train_std = sc.fit_transform(X_train)\n",
        "X_test_std = sc.transform(X_test)"
      ],
      "execution_count": null,
      "outputs": []
    },
    {
      "cell_type": "markdown",
      "metadata": {
        "id": "sABunSvquS11"
      },
      "source": [
        "## Train diabetes classification model without Hyperparameter tuning and evaluate model"
      ]
    },
    {
      "cell_type": "code",
      "metadata": {
        "id": "V65L1jWOtrIX"
      },
      "source": [
        "from sklearn.ensemble import RandomForestClassifier\n",
        "rf_classifier=RandomForestClassifier(n_estimators=10).fit(X_train_std,y_train)\n",
        "prediction=rf_classifier.predict(X_test_std)"
      ],
      "execution_count": null,
      "outputs": []
    },
    {
      "cell_type": "markdown",
      "metadata": {
        "id": "_pfBlLsk7jGv"
      },
      "source": [
        "## Evaluate modela"
      ]
    },
    {
      "cell_type": "code",
      "metadata": {
        "colab": {
          "base_uri": "https://localhost:8080/"
        },
        "id": "geSh7p6ats8t",
        "outputId": "c31fd124-a965-4b3c-bd5e-20b6785e310e"
      },
      "source": [
        "from sklearn.metrics import confusion_matrix,classification_report,accuracy_score\n",
        "print(confusion_matrix(y_test,prediction))\n",
        "print(accuracy_score(y_test,prediction))\n",
        "print(classification_report(y_test,prediction))"
      ],
      "execution_count": null,
      "outputs": [
        {
          "output_type": "stream",
          "text": [
            "[[93 14]\n",
            " [17 30]]\n",
            "0.7987012987012987\n",
            "              precision    recall  f1-score   support\n",
            "\n",
            "           0       0.85      0.87      0.86       107\n",
            "           1       0.68      0.64      0.66        47\n",
            "\n",
            "    accuracy                           0.80       154\n",
            "   macro avg       0.76      0.75      0.76       154\n",
            "weighted avg       0.80      0.80      0.80       154\n",
            "\n"
          ],
          "name": "stdout"
        }
      ]
    },
    {
      "cell_type": "markdown",
      "metadata": {
        "id": "bHa0-xPruXBp"
      },
      "source": [
        "# Train diabetes classification model using RandomizedSearchCV Hyperparameter tuning\n",
        "\n",
        "# RandomizedSearchCV\n",
        "\n",
        "Define parameters"
      ]
    },
    {
      "cell_type": "code",
      "metadata": {
        "colab": {
          "base_uri": "https://localhost:8080/"
        },
        "id": "OneCsvRHtuST",
        "outputId": "dc5b50a8-aed3-4af1-88a4-72ffaf2d8f55"
      },
      "source": [
        "import numpy as np\n",
        "from sklearn.model_selection import RandomizedSearchCV\n",
        "# Number of trees in random forest\n",
        "n_estimators = [int(x) for x in np.linspace(start = 200, stop = 2000, num = 10)]\n",
        "# Number of features to consider at every split\n",
        "max_features = ['auto', 'sqrt','log2']\n",
        "# Maximum number of levels in tree\n",
        "max_depth = [int(x) for x in np.linspace(10, 1000,10)]\n",
        "# Minimum number of samples required to split a node\n",
        "min_samples_split = [2, 5, 10,14]\n",
        "# Minimum number of samples required at each leaf node\n",
        "min_samples_leaf = [1, 2, 4,6,8]\n",
        "# Create the random grid\n",
        "random_grid = {'n_estimators': n_estimators,\n",
        "               'max_features': max_features,\n",
        "               'max_depth': max_depth,\n",
        "               'min_samples_split': min_samples_split,\n",
        "               'min_samples_leaf': min_samples_leaf,\n",
        "              'criterion':['entropy','gini']}\n",
        "print(random_grid)"
      ],
      "execution_count": null,
      "outputs": [
        {
          "output_type": "stream",
          "text": [
            "{'n_estimators': [200, 400, 600, 800, 1000, 1200, 1400, 1600, 1800, 2000], 'max_features': ['auto', 'sqrt', 'log2'], 'max_depth': [10, 120, 230, 340, 450, 560, 670, 780, 890, 1000], 'min_samples_split': [2, 5, 10, 14], 'min_samples_leaf': [1, 2, 4, 6, 8], 'criterion': ['entropy', 'gini']}\n"
          ],
          "name": "stdout"
        }
      ]
    },
    {
      "cell_type": "markdown",
      "metadata": {
        "id": "v8MBOq8777jW"
      },
      "source": [
        "# create object of RandomForestClassifier and RandomizedSearchCV and train the model"
      ]
    },
    {
      "cell_type": "code",
      "metadata": {
        "colab": {
          "base_uri": "https://localhost:8080/"
        },
        "id": "B-bDKeX5twEu",
        "outputId": "9e691d96-cd12-4bbb-f166-2955aaa51ba4"
      },
      "source": [
        "rf=RandomForestClassifier()\n",
        "rf_randomcv=RandomizedSearchCV(estimator=rf,param_distributions=random_grid,n_iter=100,cv=3,verbose=2,\n",
        "                               random_state=100,n_jobs=-1)\n",
        "### fit the randomized model\n",
        "rf_randomcv.fit(X_train,y_train)"
      ],
      "execution_count": null,
      "outputs": [
        {
          "output_type": "stream",
          "text": [
            "Fitting 3 folds for each of 100 candidates, totalling 300 fits\n"
          ],
          "name": "stdout"
        },
        {
          "output_type": "stream",
          "text": [
            "[Parallel(n_jobs=-1)]: Using backend LokyBackend with 2 concurrent workers.\n",
            "[Parallel(n_jobs=-1)]: Done  37 tasks      | elapsed:   58.7s\n",
            "[Parallel(n_jobs=-1)]: Done 158 tasks      | elapsed:  4.1min\n",
            "[Parallel(n_jobs=-1)]: Done 300 out of 300 | elapsed:  7.9min finished\n"
          ],
          "name": "stderr"
        },
        {
          "output_type": "execute_result",
          "data": {
            "text/plain": [
              "RandomizedSearchCV(cv=3, error_score=nan,\n",
              "                   estimator=RandomForestClassifier(bootstrap=True,\n",
              "                                                    ccp_alpha=0.0,\n",
              "                                                    class_weight=None,\n",
              "                                                    criterion='gini',\n",
              "                                                    max_depth=None,\n",
              "                                                    max_features='auto',\n",
              "                                                    max_leaf_nodes=None,\n",
              "                                                    max_samples=None,\n",
              "                                                    min_impurity_decrease=0.0,\n",
              "                                                    min_impurity_split=None,\n",
              "                                                    min_samples_leaf=1,\n",
              "                                                    min_samples_split=2,\n",
              "                                                    min_weight_fraction_leaf=0.0,\n",
              "                                                    n_estimators=100,\n",
              "                                                    n_jobs...\n",
              "                   param_distributions={'criterion': ['entropy', 'gini'],\n",
              "                                        'max_depth': [10, 120, 230, 340, 450,\n",
              "                                                      560, 670, 780, 890,\n",
              "                                                      1000],\n",
              "                                        'max_features': ['auto', 'sqrt',\n",
              "                                                         'log2'],\n",
              "                                        'min_samples_leaf': [1, 2, 4, 6, 8],\n",
              "                                        'min_samples_split': [2, 5, 10, 14],\n",
              "                                        'n_estimators': [200, 400, 600, 800,\n",
              "                                                         1000, 1200, 1400, 1600,\n",
              "                                                         1800, 2000]},\n",
              "                   pre_dispatch='2*n_jobs', random_state=100, refit=True,\n",
              "                   return_train_score=False, scoring=None, verbose=2)"
            ]
          },
          "metadata": {
            "tags": []
          },
          "execution_count": 8
        }
      ]
    },
    {
      "cell_type": "markdown",
      "metadata": {
        "id": "sGb-I5BN7-i7"
      },
      "source": [
        "## best parameters after applying RandomizedSearchCV"
      ]
    },
    {
      "cell_type": "code",
      "metadata": {
        "id": "jD4EuksVt1rW",
        "colab": {
          "base_uri": "https://localhost:8080/"
        },
        "outputId": "902bcdfd-2ef9-47e6-f013-615a4ca956e1"
      },
      "source": [
        "rf_randomcv.best_params_"
      ],
      "execution_count": null,
      "outputs": [
        {
          "output_type": "execute_result",
          "data": {
            "text/plain": [
              "{'criterion': 'gini',\n",
              " 'max_depth': 450,\n",
              " 'max_features': 'auto',\n",
              " 'min_samples_leaf': 8,\n",
              " 'min_samples_split': 10,\n",
              " 'n_estimators': 1400}"
            ]
          },
          "metadata": {
            "tags": []
          },
          "execution_count": 16
        }
      ]
    },
    {
      "cell_type": "markdown",
      "metadata": {
        "id": "wI8zVM8j-Pfx"
      },
      "source": [
        "# Use tuned model to evaluate"
      ]
    },
    {
      "cell_type": "code",
      "metadata": {
        "id": "sMFMZHhG2UqD"
      },
      "source": [
        "best_random_grid=rf_randomcv.best_estimator_"
      ],
      "execution_count": null,
      "outputs": []
    },
    {
      "cell_type": "markdown",
      "metadata": {
        "id": "IaZysNX612Dk"
      },
      "source": [
        "# Evaluate model"
      ]
    },
    {
      "cell_type": "code",
      "metadata": {
        "colab": {
          "base_uri": "https://localhost:8080/"
        },
        "id": "B5t72cz5wN_w",
        "outputId": "114ea018-4856-4607-c373-552b58b48dd1"
      },
      "source": [
        "from sklearn.metrics import accuracy_score\n",
        "y_pred=best_random_grid.predict(X_test)\n",
        "print(confusion_matrix(y_test,y_pred))\n",
        "print(\"Accuracy Score {}\".format(accuracy_score(y_test,y_pred)))\n",
        "print(\"Classification report: {}\".format(classification_report(y_test,y_pred)))"
      ],
      "execution_count": null,
      "outputs": [
        {
          "output_type": "stream",
          "text": [
            "[[96 11]\n",
            " [18 29]]\n",
            "Accuracy Score 0.8116883116883117\n",
            "Classification report:               precision    recall  f1-score   support\n",
            "\n",
            "           0       0.84      0.90      0.87       107\n",
            "           1       0.72      0.62      0.67        47\n",
            "\n",
            "    accuracy                           0.81       154\n",
            "   macro avg       0.78      0.76      0.77       154\n",
            "weighted avg       0.81      0.81      0.81       154\n",
            "\n"
          ],
          "name": "stdout"
        }
      ]
    },
    {
      "cell_type": "markdown",
      "metadata": {
        "id": "4viEtN60159w"
      },
      "source": [
        "# Train diabetes classification model using GridSearchCV Hyperparameter tuning\n",
        "\n",
        "# GridSearchCV\n",
        "\n",
        "Define parameters"
      ]
    },
    {
      "cell_type": "code",
      "metadata": {
        "colab": {
          "base_uri": "https://localhost:8080/"
        },
        "id": "qkv7Nl3lwRXa",
        "outputId": "1a974cb4-254a-490a-b87c-2bf5889546f5"
      },
      "source": [
        "from sklearn.model_selection import GridSearchCV\n",
        "\n",
        "param_grid = {\n",
        "    'criterion': [rf_randomcv.best_params_['criterion']],\n",
        "    'max_depth': [rf_randomcv.best_params_['max_depth']],\n",
        "    'max_features': [rf_randomcv.best_params_['max_features']],\n",
        "    'min_samples_leaf': [rf_randomcv.best_params_['min_samples_leaf'], \n",
        "                         rf_randomcv.best_params_['min_samples_leaf']+2, \n",
        "                         rf_randomcv.best_params_['min_samples_leaf'] + 4],\n",
        "    \n",
        "    'min_samples_split': [rf_randomcv.best_params_['min_samples_split'] - 2,\n",
        "                          rf_randomcv.best_params_['min_samples_split'] - 1,\n",
        "                          rf_randomcv.best_params_['min_samples_split'], \n",
        "                          rf_randomcv.best_params_['min_samples_split'] +1,\n",
        "                          rf_randomcv.best_params_['min_samples_split'] + 2],\n",
        "    \n",
        "    'n_estimators': [rf_randomcv.best_params_['n_estimators'] - 200, rf_randomcv.best_params_['n_estimators'] - 100, \n",
        "                     rf_randomcv.best_params_['n_estimators'], \n",
        "                     rf_randomcv.best_params_['n_estimators'] + 100, rf_randomcv.best_params_['n_estimators'] + 200]\n",
        "}\n",
        "\n",
        "print(param_grid)"
      ],
      "execution_count": null,
      "outputs": [
        {
          "output_type": "stream",
          "text": [
            "{'criterion': ['gini'], 'max_depth': [450], 'max_features': ['auto'], 'min_samples_leaf': [8, 10, 12], 'min_samples_split': [8, 9, 10, 11, 12], 'n_estimators': [1200, 1300, 1400, 1500, 1600]}\n"
          ],
          "name": "stdout"
        }
      ]
    },
    {
      "cell_type": "markdown",
      "metadata": {
        "id": "wEf2pFA_8Oak"
      },
      "source": [
        "# create object of RandomForestClassifier and GridSearchCV and train the model"
      ]
    },
    {
      "cell_type": "code",
      "metadata": {
        "colab": {
          "base_uri": "https://localhost:8080/"
        },
        "id": "WpBFZYq3wgVZ",
        "outputId": "056e0886-8ccc-4b01-e932-ab99a1e27bef"
      },
      "source": [
        "#### Fit the grid_search to the data\n",
        "rf=RandomForestClassifier()\n",
        "grid_search=GridSearchCV(estimator=rf,param_grid=param_grid,cv=10,n_jobs=-1,verbose=2)\n",
        "grid_search.fit(X_train,y_train)\n"
      ],
      "execution_count": null,
      "outputs": [
        {
          "output_type": "stream",
          "text": [
            "Fitting 10 folds for each of 75 candidates, totalling 750 fits\n"
          ],
          "name": "stdout"
        },
        {
          "output_type": "stream",
          "text": [
            "[Parallel(n_jobs=-1)]: Using backend LokyBackend with 2 concurrent workers.\n",
            "[Parallel(n_jobs=-1)]: Done  37 tasks      | elapsed:  1.2min\n",
            "[Parallel(n_jobs=-1)]: Done 158 tasks      | elapsed:  5.0min\n",
            "[Parallel(n_jobs=-1)]: Done 361 tasks      | elapsed: 11.5min\n",
            "[Parallel(n_jobs=-1)]: Done 644 tasks      | elapsed: 20.3min\n",
            "[Parallel(n_jobs=-1)]: Done 750 out of 750 | elapsed: 23.7min finished\n"
          ],
          "name": "stderr"
        },
        {
          "output_type": "execute_result",
          "data": {
            "text/plain": [
              "GridSearchCV(cv=10, error_score=nan,\n",
              "             estimator=RandomForestClassifier(bootstrap=True, ccp_alpha=0.0,\n",
              "                                              class_weight=None,\n",
              "                                              criterion='gini', max_depth=None,\n",
              "                                              max_features='auto',\n",
              "                                              max_leaf_nodes=None,\n",
              "                                              max_samples=None,\n",
              "                                              min_impurity_decrease=0.0,\n",
              "                                              min_impurity_split=None,\n",
              "                                              min_samples_leaf=1,\n",
              "                                              min_samples_split=2,\n",
              "                                              min_weight_fraction_leaf=0.0,\n",
              "                                              n_estimators=100, n_jobs=None,\n",
              "                                              oob_score=False,\n",
              "                                              random_state=None, verbose=0,\n",
              "                                              warm_start=False),\n",
              "             iid='deprecated', n_jobs=-1,\n",
              "             param_grid={'criterion': ['gini'], 'max_depth': [450],\n",
              "                         'max_features': ['auto'],\n",
              "                         'min_samples_leaf': [8, 10, 12],\n",
              "                         'min_samples_split': [8, 9, 10, 11, 12],\n",
              "                         'n_estimators': [1200, 1300, 1400, 1500, 1600]},\n",
              "             pre_dispatch='2*n_jobs', refit=True, return_train_score=False,\n",
              "             scoring=None, verbose=2)"
            ]
          },
          "metadata": {
            "tags": []
          },
          "execution_count": 21
        }
      ]
    },
    {
      "cell_type": "markdown",
      "metadata": {
        "id": "_gUfINnU8Vtf"
      },
      "source": [
        "# best parameters after applying GridSearchCV"
      ]
    },
    {
      "cell_type": "code",
      "metadata": {
        "colab": {
          "base_uri": "https://localhost:8080/"
        },
        "id": "4dB1ak1h4XqY",
        "outputId": "32facdfe-8671-498d-ffbd-76de5b9781b3"
      },
      "source": [
        "grid_search.best_estimator_"
      ],
      "execution_count": null,
      "outputs": [
        {
          "output_type": "execute_result",
          "data": {
            "text/plain": [
              "RandomForestClassifier(bootstrap=True, ccp_alpha=0.0, class_weight=None,\n",
              "                       criterion='gini', max_depth=450, max_features='auto',\n",
              "                       max_leaf_nodes=None, max_samples=None,\n",
              "                       min_impurity_decrease=0.0, min_impurity_split=None,\n",
              "                       min_samples_leaf=10, min_samples_split=11,\n",
              "                       min_weight_fraction_leaf=0.0, n_estimators=1200,\n",
              "                       n_jobs=None, oob_score=False, random_state=None,\n",
              "                       verbose=0, warm_start=False)"
            ]
          },
          "metadata": {
            "tags": []
          },
          "execution_count": 28
        }
      ]
    },
    {
      "cell_type": "markdown",
      "metadata": {
        "id": "WyRhYy4M_ut8"
      },
      "source": [
        "# Use tuned model to evaluate"
      ]
    },
    {
      "cell_type": "code",
      "metadata": {
        "id": "AMuwotWH2G6J"
      },
      "source": [
        "best_grid=grid_search.best_estimator_"
      ],
      "execution_count": null,
      "outputs": []
    },
    {
      "cell_type": "markdown",
      "metadata": {
        "id": "J8GHaBks8Z9Z"
      },
      "source": [
        "# Evaluate model"
      ]
    },
    {
      "cell_type": "code",
      "metadata": {
        "colab": {
          "base_uri": "https://localhost:8080/"
        },
        "id": "ARVnByC52s_-",
        "outputId": "6f857d76-e1b8-4f69-a238-c912e51625bc"
      },
      "source": [
        "y_pred=best_grid.predict(X_test)\n",
        "print(confusion_matrix(y_test,y_pred))\n",
        "print(\"Accuracy Score {}\".format(accuracy_score(y_test,y_pred)))\n",
        "print(\"Classification report: {}\".format(classification_report(y_test,y_pred)))"
      ],
      "execution_count": null,
      "outputs": [
        {
          "output_type": "stream",
          "text": [
            "[[97 10]\n",
            " [19 28]]\n",
            "Accuracy Score 0.8116883116883117\n",
            "Classification report:               precision    recall  f1-score   support\n",
            "\n",
            "           0       0.84      0.91      0.87       107\n",
            "           1       0.74      0.60      0.66        47\n",
            "\n",
            "    accuracy                           0.81       154\n",
            "   macro avg       0.79      0.75      0.76       154\n",
            "weighted avg       0.81      0.81      0.81       154\n",
            "\n"
          ],
          "name": "stdout"
        }
      ]
    },
    {
      "cell_type": "markdown",
      "metadata": {
        "id": "oEsdLFYs-dLj"
      },
      "source": [
        "# ***Thank You !!!!!!!!!!!!!!!!!!!!!!!!!!!!!***"
      ]
    }
  ]
}